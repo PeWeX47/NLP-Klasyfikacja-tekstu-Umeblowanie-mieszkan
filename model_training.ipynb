{
 "cells": [
  {
   "cell_type": "code",
   "execution_count": 2,
   "metadata": {},
   "outputs": [],
   "source": [
    "import spacy\n",
    "import pandas as pd\n",
    "import re\n",
    "from sklearn.feature_extraction.text import CountVectorizer\n",
    "from sklearn.model_selection import train_test_split"
   ]
  },
  {
   "cell_type": "markdown",
   "metadata": {},
   "source": [
    "### Czyszczenie danych"
   ]
  },
  {
   "cell_type": "code",
   "execution_count": 14,
   "metadata": {},
   "outputs": [
    {
     "data": {
      "text/html": [
       "<div>\n",
       "<style scoped>\n",
       "    .dataframe tbody tr th:only-of-type {\n",
       "        vertical-align: middle;\n",
       "    }\n",
       "\n",
       "    .dataframe tbody tr th {\n",
       "        vertical-align: top;\n",
       "    }\n",
       "\n",
       "    .dataframe thead th {\n",
       "        text-align: right;\n",
       "    }\n",
       "</style>\n",
       "<table border=\"1\" class=\"dataframe\">\n",
       "  <thead>\n",
       "    <tr style=\"text-align: right;\">\n",
       "      <th></th>\n",
       "      <th>Label</th>\n",
       "      <th>Opis</th>\n",
       "    </tr>\n",
       "  </thead>\n",
       "  <tbody>\n",
       "    <tr>\n",
       "      <th>0</th>\n",
       "      <td>2</td>\n",
       "      <td>Do wynajęcia mieszkanie dwupokojowe z ogródkie...</td>\n",
       "    </tr>\n",
       "    <tr>\n",
       "      <th>1</th>\n",
       "      <td>2</td>\n",
       "      <td>Wygodne, rozkładowe, częściowo umeblowane mies...</td>\n",
       "    </tr>\n",
       "    <tr>\n",
       "      <th>2</th>\n",
       "      <td>2</td>\n",
       "      <td>Do wynajęcia mieszkanie 70m z tarasem o powier...</td>\n",
       "    </tr>\n",
       "    <tr>\n",
       "      <th>3</th>\n",
       "      <td>2</td>\n",
       "      <td>Na wynajem - jasne i przytulne mieszkanie dwup...</td>\n",
       "    </tr>\n",
       "    <tr>\n",
       "      <th>4</th>\n",
       "      <td>2</td>\n",
       "      <td>[PL/EN]           Piękne, stylowe i wysmakowan...</td>\n",
       "    </tr>\n",
       "  </tbody>\n",
       "</table>\n",
       "</div>"
      ],
      "text/plain": [
       "   Label                                               Opis\n",
       "0      2  Do wynajęcia mieszkanie dwupokojowe z ogródkie...\n",
       "1      2  Wygodne, rozkładowe, częściowo umeblowane mies...\n",
       "2      2  Do wynajęcia mieszkanie 70m z tarasem o powier...\n",
       "3      2  Na wynajem - jasne i przytulne mieszkanie dwup...\n",
       "4      2  [PL/EN]           Piękne, stylowe i wysmakowan..."
      ]
     },
     "execution_count": 14,
     "metadata": {},
     "output_type": "execute_result"
    }
   ],
   "source": [
    "df_raw = pd.read_csv(r'C:\\Users\\wilko\\Desktop\\Studia\\Projekty swoje\\Python\\Machine learning\\NLP-text-classification\\data\\descriptions\\training_data.csv', header=0)\n",
    "df = df_raw.copy()\n",
    "df.head()"
   ]
  },
  {
   "cell_type": "code",
   "execution_count": 15,
   "metadata": {},
   "outputs": [
    {
     "data": {
      "text/plain": [
       "0    268\n",
       "1    250\n",
       "2    249\n",
       "Name: Label, dtype: int64"
      ]
     },
     "execution_count": 15,
     "metadata": {},
     "output_type": "execute_result"
    }
   ],
   "source": [
    "df['Label'].value_counts()"
   ]
  },
  {
   "cell_type": "markdown",
   "metadata": {},
   "source": [
    "### Zapisanie opisów małymi literami"
   ]
  },
  {
   "cell_type": "code",
   "execution_count": 16,
   "metadata": {},
   "outputs": [
    {
     "data": {
      "text/html": [
       "<div>\n",
       "<style scoped>\n",
       "    .dataframe tbody tr th:only-of-type {\n",
       "        vertical-align: middle;\n",
       "    }\n",
       "\n",
       "    .dataframe tbody tr th {\n",
       "        vertical-align: top;\n",
       "    }\n",
       "\n",
       "    .dataframe thead th {\n",
       "        text-align: right;\n",
       "    }\n",
       "</style>\n",
       "<table border=\"1\" class=\"dataframe\">\n",
       "  <thead>\n",
       "    <tr style=\"text-align: right;\">\n",
       "      <th></th>\n",
       "      <th>Label</th>\n",
       "      <th>Opis</th>\n",
       "    </tr>\n",
       "  </thead>\n",
       "  <tbody>\n",
       "    <tr>\n",
       "      <th>0</th>\n",
       "      <td>2</td>\n",
       "      <td>do wynajęcia mieszkanie dwupokojowe z ogródkie...</td>\n",
       "    </tr>\n",
       "    <tr>\n",
       "      <th>1</th>\n",
       "      <td>2</td>\n",
       "      <td>wygodne, rozkładowe, częściowo umeblowane mies...</td>\n",
       "    </tr>\n",
       "    <tr>\n",
       "      <th>2</th>\n",
       "      <td>2</td>\n",
       "      <td>do wynajęcia mieszkanie 70m z tarasem o powier...</td>\n",
       "    </tr>\n",
       "    <tr>\n",
       "      <th>3</th>\n",
       "      <td>2</td>\n",
       "      <td>na wynajem - jasne i przytulne mieszkanie dwup...</td>\n",
       "    </tr>\n",
       "    <tr>\n",
       "      <th>4</th>\n",
       "      <td>2</td>\n",
       "      <td>[pl/en]           piękne, stylowe i wysmakowan...</td>\n",
       "    </tr>\n",
       "  </tbody>\n",
       "</table>\n",
       "</div>"
      ],
      "text/plain": [
       "   Label                                               Opis\n",
       "0      2  do wynajęcia mieszkanie dwupokojowe z ogródkie...\n",
       "1      2  wygodne, rozkładowe, częściowo umeblowane mies...\n",
       "2      2  do wynajęcia mieszkanie 70m z tarasem o powier...\n",
       "3      2  na wynajem - jasne i przytulne mieszkanie dwup...\n",
       "4      2  [pl/en]           piękne, stylowe i wysmakowan..."
      ]
     },
     "execution_count": 16,
     "metadata": {},
     "output_type": "execute_result"
    }
   ],
   "source": [
    "df['Opis'] = df['Opis'].str.lower()\n",
    "df.head()"
   ]
  },
  {
   "cell_type": "markdown",
   "metadata": {},
   "source": [
    "### Usunięcie znaków specjalnych, interpunkcji oraz liczb"
   ]
  },
  {
   "cell_type": "code",
   "execution_count": 17,
   "metadata": {},
   "outputs": [
    {
     "name": "stderr",
     "output_type": "stream",
     "text": [
      "C:\\Users\\wilko\\AppData\\Local\\Temp\\ipykernel_3404\\1892002214.py:8: FutureWarning: The default value of regex will change from True to False in a future version.\n",
      "  df['Opis'] = df['Opis'].str. replace('\\d+', '')\n"
     ]
    },
    {
     "data": {
      "text/html": [
       "<div>\n",
       "<style scoped>\n",
       "    .dataframe tbody tr th:only-of-type {\n",
       "        vertical-align: middle;\n",
       "    }\n",
       "\n",
       "    .dataframe tbody tr th {\n",
       "        vertical-align: top;\n",
       "    }\n",
       "\n",
       "    .dataframe thead th {\n",
       "        text-align: right;\n",
       "    }\n",
       "</style>\n",
       "<table border=\"1\" class=\"dataframe\">\n",
       "  <thead>\n",
       "    <tr style=\"text-align: right;\">\n",
       "      <th></th>\n",
       "      <th>Label</th>\n",
       "      <th>Opis</th>\n",
       "    </tr>\n",
       "  </thead>\n",
       "  <tbody>\n",
       "    <tr>\n",
       "      <th>0</th>\n",
       "      <td>2</td>\n",
       "      <td>do wynajęcia mieszkanie dwupokojowe z ogródkie...</td>\n",
       "    </tr>\n",
       "    <tr>\n",
       "      <th>1</th>\n",
       "      <td>2</td>\n",
       "      <td>wygodne rozkładowe częściowo umeblowane mieszk...</td>\n",
       "    </tr>\n",
       "    <tr>\n",
       "      <th>2</th>\n",
       "      <td>2</td>\n",
       "      <td>do wynajęcia mieszkanie m z tarasem o powierzc...</td>\n",
       "    </tr>\n",
       "    <tr>\n",
       "      <th>3</th>\n",
       "      <td>2</td>\n",
       "      <td>na wynajem  jasne i przytulne mieszkanie dwupo...</td>\n",
       "    </tr>\n",
       "    <tr>\n",
       "      <th>4</th>\n",
       "      <td>2</td>\n",
       "      <td>plen           piękne stylowe i wysmakowane  p...</td>\n",
       "    </tr>\n",
       "  </tbody>\n",
       "</table>\n",
       "</div>"
      ],
      "text/plain": [
       "   Label                                               Opis\n",
       "0      2  do wynajęcia mieszkanie dwupokojowe z ogródkie...\n",
       "1      2  wygodne rozkładowe częściowo umeblowane mieszk...\n",
       "2      2  do wynajęcia mieszkanie m z tarasem o powierzc...\n",
       "3      2  na wynajem  jasne i przytulne mieszkanie dwupo...\n",
       "4      2  plen           piękne stylowe i wysmakowane  p..."
      ]
     },
     "execution_count": 17,
     "metadata": {},
     "output_type": "execute_result"
    }
   ],
   "source": [
    "def remove_special_chars(text):\n",
    "    if text is not None:\n",
    "        cleaned_text = re.sub(r'[^\\w\\s]', '', text)  \n",
    "        return cleaned_text\n",
    "    else:\n",
    "        return None\n",
    "\n",
    "df['Opis'] = df['Opis'].str. replace('\\d+', '')\n",
    "df['Opis'] = df['Opis'].apply(remove_special_chars)\n",
    "\n",
    "df.head()"
   ]
  },
  {
   "cell_type": "markdown",
   "metadata": {},
   "source": [
    "### Steming i lemantyzacja"
   ]
  },
  {
   "cell_type": "code",
   "execution_count": 18,
   "metadata": {},
   "outputs": [],
   "source": [
    "nlp = spacy.load('pl_core_news_md')\n",
    "\n",
    "for opis in df['Opis']:\n",
    "    doc = nlp(opis)\n",
    "    przetworzony_opis = ' '.join([token.lemma_ for token in doc if not token.is_stop])\n",
    "    opis = przetworzony_opis\n"
   ]
  },
  {
   "cell_type": "markdown",
   "metadata": {},
   "source": [
    "### Podział na dane treningowe i testowe"
   ]
  },
  {
   "cell_type": "code",
   "execution_count": 22,
   "metadata": {},
   "outputs": [],
   "source": [
    "X_train, X_test, y_train, y_test = train_test_split(df['Opis'], df['Label'], random_state=42, test_size=0.2, shuffle=True)\n"
   ]
  },
  {
   "cell_type": "markdown",
   "metadata": {},
   "source": [
    "### Wektoryzacja danych tekstowych z wykorzystaniem macierzy TF-IDF"
   ]
  },
  {
   "cell_type": "code",
   "execution_count": 23,
   "metadata": {},
   "outputs": [],
   "source": [
    "from sklearn.feature_extraction.text import TfidfVectorizer\n",
    "\n",
    "tfidf = TfidfVectorizer(max_features=80)\n",
    "X_train = tfidf.fit_transform(X_train)\n",
    "X_test = tfidf.transform(X_test)"
   ]
  },
  {
   "cell_type": "markdown",
   "metadata": {},
   "source": [
    "### Model maszyny wektorów nośnych"
   ]
  },
  {
   "cell_type": "code",
   "execution_count": 27,
   "metadata": {},
   "outputs": [
    {
     "name": "stdout",
     "output_type": "stream",
     "text": [
      "0.8051948051948052\n"
     ]
    }
   ],
   "source": [
    "from sklearn.svm import SVC\n",
    "\n",
    "svm_clf = SVC(C=5, kernel='linear', gamma='auto')\n",
    "svm_clf.fit(X_train, y_train)\n",
    "\n",
    "y_pred = svm_clf.predict(X_test)\n",
    "print(svm_clf.score(X_test, y_test))"
   ]
  },
  {
   "cell_type": "code",
   "execution_count": 25,
   "metadata": {},
   "outputs": [
    {
     "data": {
      "image/png": "[encoded data removed]",
      "text/plain": [
       "<Figure size 640x480 with 2 Axes>"
      ]
     },
     "metadata": {},
     "output_type": "display_data"
    }
   ],
   "source": [
    "from sklearn.metrics import confusion_matrix\n",
    "import matplotlib.pyplot as plt\n",
    "import seaborn as sns\n",
    "\n",
    "sns.set()\n",
    "\n",
    "conf_matrix = confusion_matrix(y_test, y_pred, labels=[0, 1, 2])\n",
    "sns.heatmap(conf_matrix,\n",
    "            annot=True,\n",
    "            fmt='g',\n",
    "            xticklabels=[0, 1, 2],\n",
    "            yticklabels=[0, 1, 2]\n",
    "    )\n",
    "plt.ylabel('Predykcja', fontsize=13)\n",
    "plt.xlabel('Poprawna wartość', fontsize=13)\n",
    "plt.title('Macierz pomyłek', fontsize=17)\n",
    "plt.show()"
   ]
  },
  {
   "cell_type": "markdown",
   "metadata": {},
   "source": [
    "### Model drzewa decyzyjnego"
   ]
  },
  {
   "cell_type": "code",
   "execution_count": 28,
   "metadata": {},
   "outputs": [
    {
     "name": "stdout",
     "output_type": "stream",
     "text": [
      "0.8831168831168831\n"
     ]
    }
   ],
   "source": [
    "from sklearn.tree import DecisionTreeClassifier\n",
    "dt_clf = DecisionTreeClassifier(criterion=\"gini\", max_depth=3)\n",
    "\n",
    "dt_clf.fit(X_train, y_train)\n",
    "\n",
    "y_pred = dt_clf.predict(X_test)\n",
    "print(dt_clf.score(X_test, y_test))"
   ]
  },
  {
   "cell_type": "code",
   "execution_count": 29,
   "metadata": {},
   "outputs": [
    {
     "data": {
      "image/png": "[encoded data removed]",
      "text/plain": [
       "<Figure size 640x480 with 2 Axes>"
      ]
     },
     "metadata": {},
     "output_type": "display_data"
    }
   ],
   "source": [
    "conf_matrix = confusion_matrix(y_test, y_pred, labels=[0, 1, 2])\n",
    "sns.heatmap(conf_matrix,\n",
    "            annot=True,\n",
    "            fmt='g',\n",
    "            xticklabels=[0, 1, 2],\n",
    "            yticklabels=[0, 1, 2]\n",
    "    )\n",
    "plt.ylabel('Predykcja', fontsize=13)\n",
    "plt.xlabel('Poprawna wartość', fontsize=13)\n",
    "plt.title('Macierz pomyłek', fontsize=17)\n",
    "plt.show()"
   ]
  },
  {
   "cell_type": "markdown",
   "metadata": {},
   "source": [
    "### Model regresji logistycznej"
   ]
  },
  {
   "cell_type": "code",
   "execution_count": 30,
   "metadata": {},
   "outputs": [
    {
     "name": "stdout",
     "output_type": "stream",
     "text": [
      "0.8051948051948052\n"
     ]
    }
   ],
   "source": [
    "from sklearn.linear_model import LogisticRegression\n",
    "\n",
    "logreg_clf = LogisticRegression()\n",
    "logreg_clf.fit(X_train, y_train)\n",
    "\n",
    "y_pred = logreg_clf.predict(X_test)\n",
    "print(logreg_clf.score(X_test, y_test))"
   ]
  },
  {
   "cell_type": "code",
   "execution_count": 31,
   "metadata": {},
   "outputs": [
    {
     "data": {
      "image/png": "[encoded data removed]",
      "text/plain": [
       "<Figure size 640x480 with 2 Axes>"
      ]
     },
     "metadata": {},
     "output_type": "display_data"
    }
   ],
   "source": [
    "conf_matrix = confusion_matrix(y_test, y_pred, labels=[0, 1, 2])\n",
    "sns.heatmap(conf_matrix,\n",
    "            annot=True,\n",
    "            fmt='g',\n",
    "            xticklabels=[0, 1, 2],\n",
    "            yticklabels=[0, 1, 2]\n",
    "    )\n",
    "plt.ylabel('Predykcja', fontsize=13)\n",
    "plt.xlabel('Poprawna wartość', fontsize=13)\n",
    "plt.title('Macierz pomyłek', fontsize=17)\n",
    "plt.show()"
   ]
  },
  {
   "cell_type": "code",
   "execution_count": null,
   "metadata": {},
   "outputs": [],
   "source": []
  }
 ],
 "metadata": {
  "kernelspec": {
   "display_name": "Python 3",
   "language": "python",
   "name": "python3"
  },
  "language_info": {
   "codemirror_mode": {
    "name": "ipython",
    "version": 3
   },
   "file_extension": ".py",
   "mimetype": "text/x-python",
   "name": "python",
   "nbconvert_exporter": "python",
   "pygments_lexer": "ipython3",
   "version": "3.10.9"
  },
  "orig_nbformat": 4
 },
 "nbformat": 4,
 "nbformat_minor": 2
}
